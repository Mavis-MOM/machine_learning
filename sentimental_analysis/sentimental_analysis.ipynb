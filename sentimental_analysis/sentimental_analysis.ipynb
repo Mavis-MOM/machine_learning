{
 "cells": [
  {
   "cell_type": "code",
   "execution_count": 3,
   "metadata": {},
   "outputs": [
    {
     "name": "stdout",
     "output_type": "stream",
     "text": [
      "Requirement already satisfied: vaderSentiment in c:\\users\\kuuku\\anaconda3\\lib\\site-packages (3.2.1)\n"
     ]
    }
   ],
   "source": [
    " ! pip install vaderSentiment"
   ]
  },
  {
   "cell_type": "code",
   "execution_count": 5,
   "metadata": {},
   "outputs": [],
   "source": [
    "#Intialising the Sentiment function\n",
    "from vaderSentiment.vaderSentiment import SentimentIntensityAnalyzer\n",
    "analyser = SentimentIntensityAnalyzer()"
   ]
  },
  {
   "cell_type": "code",
   "execution_count": 7,
   "metadata": {},
   "outputs": [],
   "source": [
    "def sentiment_analyzer_scores(sentence):\n",
    "    score = analyser.polarity_scores(sentence)\n",
    "    print(\"{:-<40} {}\".format(sentence, str(score)))\n",
    "    "
   ]
  },
  {
   "cell_type": "code",
   "execution_count": 8,
   "metadata": {},
   "outputs": [
    {
     "name": "stdout",
     "output_type": "stream",
     "text": [
      "this is cool.--------------------------- {'neg': 0.0, 'neu': 0.465, 'pos': 0.535, 'compound': 0.3182}\n"
     ]
    }
   ],
   "source": [
    "sentiment_analyzer_scores(\"this is cool.\")"
   ]
  },
  {
   "cell_type": "code",
   "execution_count": 10,
   "metadata": {},
   "outputs": [
    {
     "name": "stdout",
     "output_type": "stream",
     "text": [
      "I am 😊 today---------------------------- {'neg': 0.0, 'neu': 0.455, 'pos': 0.545, 'compound': 0.7184}\n",
      "None\n",
      "😊--------------------------------------- {'neg': 0.0, 'neu': 0.333, 'pos': 0.667, 'compound': 0.7184}\n",
      "None\n",
      "😂--------------------------------------- {'neg': 0.218, 'neu': 0.345, 'pos': 0.437, 'compound': 0.4404}\n",
      "None\n",
      "😎--------------------------------------- {'neg': 0.0, 'neu': 0.5, 'pos': 0.5, 'compound': 0.4588}\n",
      "None\n",
      "I am not happy-------------------------- {'neg': 0.6, 'neu': 0.4, 'pos': 0.0, 'compound': -0.4585}\n",
      "None\n"
     ]
    }
   ],
   "source": [
    "#Emojis\n",
    "print(sentiment_analyzer_scores('I am 😊 today'))\n",
    "print(sentiment_analyzer_scores('😊'))\n",
    "print(sentiment_analyzer_scores('😂'))\n",
    "print(sentiment_analyzer_scores('😎'))\n",
    "print(sentiment_analyzer_scores('I am not happy'))"
   ]
  },
  {
   "cell_type": "code",
   "execution_count": null,
   "metadata": {},
   "outputs": [],
   "source": []
  }
 ],
 "metadata": {
  "kernelspec": {
   "display_name": "Python 3",
   "language": "python",
   "name": "python3"
  },
  "language_info": {
   "codemirror_mode": {
    "name": "ipython",
    "version": 3
   },
   "file_extension": ".py",
   "mimetype": "text/x-python",
   "name": "python",
   "nbconvert_exporter": "python",
   "pygments_lexer": "ipython3",
   "version": "3.7.3"
  }
 },
 "nbformat": 4,
 "nbformat_minor": 2
}
